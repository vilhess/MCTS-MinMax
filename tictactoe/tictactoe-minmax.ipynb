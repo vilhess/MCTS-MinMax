{
 "cells": [
  {
   "cell_type": "code",
   "execution_count": 1,
   "metadata": {},
   "outputs": [],
   "source": [
    "import numpy as np"
   ]
  },
  {
   "cell_type": "code",
   "execution_count": 2,
   "metadata": {},
   "outputs": [],
   "source": [
    "class Grid:\n",
    "\n",
    "    def __init__(self):\n",
    "        self.GRID_SIZE = (3, 3)\n",
    "        self.create_grid()\n",
    "\n",
    "    def create_grid(self):\n",
    "        self.grid = np.zeros(self.GRID_SIZE)\n",
    "\n",
    "    def available_positions(self):\n",
    "        pos = np.where(self.grid==0)\n",
    "        av_pos = [(x, y) for x, y in zip(pos[0], pos[1])]\n",
    "        return av_pos\n",
    "    \n",
    "    def grid_complete(self):\n",
    "        if len(self.available_positions())==0:\n",
    "            return True\n",
    "        return False\n",
    "    \n",
    "    def win_grid(self):\n",
    "\n",
    "        grid = self.grid\n",
    "        diag = np.diag(self.grid)\n",
    "        reverse_diag = np.diag(np.fliplr(self.grid))\n",
    "\n",
    "        if diag[0]==diag[1]==diag[2]!=0:\n",
    "            return diag[0]\n",
    "        \n",
    "        if reverse_diag[0]==reverse_diag[1]==reverse_diag[2]!=0:\n",
    "            return reverse_diag[0]\n",
    "        \n",
    "        for col in range(3):\n",
    "            if grid[0, col]==grid[1, col]==grid[2, col]!=0:\n",
    "                return grid[0, col]\n",
    "        \n",
    "        for row in range(3):\n",
    "            if grid[row, 0]==grid[row, 1]==grid[row, 2]!=0:\n",
    "                return grid[row, 0]\n",
    "        \n",
    "        return False\n",
    "    \n",
    "    def play_move(self, pos:tuple, value=1):\n",
    "        if len(pos)!=2:\n",
    "            print(\"position length should be 2\")\n",
    "            return \"position length should be 2\"\n",
    "        self.grid[pos]=value\n",
    "\n",
    "    def score_grid(self, bot_value=1):\n",
    "        win = self.win_grid()\n",
    "\n",
    "        if win==bot_value:\n",
    "            return 100\n",
    "        if win==-bot_value:\n",
    "            return -100\n",
    "        if self.grid_complete():\n",
    "            return 0\n",
    "        return False\n",
    "\n",
    "    def show_grid(self):\n",
    "        grid = self.grid.astype(str)\n",
    "        grid[grid == \"0.0\"] = \" \"\n",
    "        grid[grid == \"1.0\"] = \"X\"\n",
    "        grid[grid == \"-1.0\"] = \"O\"\n",
    "        \n",
    "        # Afficher la grille avec une délimitation claire\n",
    "        print(\"-------------\")\n",
    "        for i, row in enumerate(grid):\n",
    "            print(f\"| {' | '.join(row)} |\")\n",
    "            print(\"-------------\")"
   ]
  },
  {
   "cell_type": "code",
   "execution_count": 3,
   "metadata": {},
   "outputs": [],
   "source": [
    "class HumanPlayer:\n",
    "    \n",
    "    def __init__(self, value=1):\n",
    "        assert value in [1, -1], \"Value should be 1 or -1\"\n",
    "        self.value = value\n",
    "\n",
    "    def play_move(self, grid:Grid):\n",
    "        row = int(input(\"Select the row : \")) -1\n",
    "        col = int(input(\"Select the column : \")) -1\n",
    "        pos = (row, col)\n",
    "        if pos not in grid.available_positions():\n",
    "            print(\"Position not available\")\n",
    "            self.play_move(grid)\n",
    "        grid.play_move(pos, value=self.value)"
   ]
  },
  {
   "cell_type": "code",
   "execution_count": 4,
   "metadata": {},
   "outputs": [],
   "source": [
    "class MinMaxBot:\n",
    "    def __init__(self, depth, value=1):\n",
    "        self.depth = depth\n",
    "        self.value = value\n",
    "\n",
    "    def minmax(self, grid, depth, maximize, value):\n",
    "        # Obtenir le score actuel de la grille\n",
    "        score = grid.score_grid(bot_value=value)\n",
    "        if depth == 0 or score is not False:\n",
    "            return score\n",
    "\n",
    "        av_pos = grid.available_positions()\n",
    "        if maximize:\n",
    "            best_score = -float('inf')\n",
    "            for pos in av_pos:\n",
    "                grid.play_move(pos, value)\n",
    "                score = self.minmax(grid, depth-1, maximize=False, value=value)\n",
    "                grid.play_move(pos, value=0)  \n",
    "                best_score = max(best_score, score)\n",
    "            return best_score\n",
    "        elif not maximize:\n",
    "            best_score = float('inf')\n",
    "            for pos in av_pos:\n",
    "                grid.play_move(pos, -value)\n",
    "                score = self.minmax(grid, depth-1, maximize=True, value=value)\n",
    "                grid.play_move(pos, value=0) \n",
    "                best_score = min(best_score, score)\n",
    "            return best_score\n",
    "\n",
    "    def play_move(self, grid):\n",
    "        best_score = -float('inf')\n",
    "        best_pos = None\n",
    "        av_pos = grid.available_positions()\n",
    "        for pos in av_pos:\n",
    "            grid.play_move(pos, self.value)\n",
    "            score = self.minmax(grid, depth=self.depth, maximize=False, value=self.value)\n",
    "            grid.play_move(pos, value=0) \n",
    "            if score > best_score:\n",
    "                best_score = score\n",
    "                best_pos = pos\n",
    "        if best_pos is not None:\n",
    "            grid.play_move(best_pos, value=self.value)\n"
   ]
  },
  {
   "cell_type": "code",
   "execution_count": 5,
   "metadata": {},
   "outputs": [],
   "source": [
    "class Game:\n",
    "\n",
    "    def __init__(self, grid: Grid, pl1: HumanPlayer, pl2: HumanPlayer):\n",
    "        self.grid = grid\n",
    "        self.pl1 = pl1\n",
    "        self.pl2 = pl2\n",
    "        assert self.pl1.value != self.pl2.value, \"Marker value between players should be differents\"\n",
    "\n",
    "    def game_loop(self):\n",
    "        while not self.grid.grid_complete():\n",
    "\n",
    "            self.pl1.play_move(self.grid)\n",
    "            if self.grid.win_grid()==self.pl1.value:\n",
    "                print(\"Player 1 Win\")\n",
    "                break\n",
    "            self.grid.show_grid()\n",
    "            print(\"\")\n",
    "\n",
    "            self.pl2.play_move(self.grid)\n",
    "            if self.grid.win_grid()==self.pl2.value:\n",
    "                print(\"Player 2 Win\")\n",
    "                break\n",
    "            self.grid.show_grid()\n",
    "            print(\"\")\n",
    "        self.grid.show_grid()"
   ]
  },
  {
   "cell_type": "code",
   "execution_count": 15,
   "metadata": {},
   "outputs": [],
   "source": [
    "pl1 = MinMaxBot(depth=4, value=1)\n",
    "pl2 = MinMaxBot(depth=5, value=-1)\n",
    "grid = Grid()"
   ]
  },
  {
   "cell_type": "code",
   "execution_count": 16,
   "metadata": {},
   "outputs": [],
   "source": [
    "game = Game(grid, pl1, pl2)"
   ]
  },
  {
   "cell_type": "code",
   "execution_count": null,
   "metadata": {},
   "outputs": [],
   "source": [
    "game.game_loop()"
   ]
  },
  {
   "cell_type": "code",
   "execution_count": 3,
   "metadata": {},
   "outputs": [],
   "source": [
    "import numpy as np\n",
    "grid = np.zeros((10, 10))"
   ]
  },
  {
   "cell_type": "code",
   "execution_count": 4,
   "metadata": {},
   "outputs": [],
   "source": [
    "def drop_piece(grid, row, col, val):\n",
    "    grid[row, col]=val"
   ]
  },
  {
   "cell_type": "code",
   "execution_count": 5,
   "metadata": {},
   "outputs": [],
   "source": [
    "drop_piece(grid, 1, 1, 1)"
   ]
  },
  {
   "cell_type": "code",
   "execution_count": 6,
   "metadata": {},
   "outputs": [
    {
     "data": {
      "text/plain": [
       "array([[0., 0., 0., 0., 0., 0., 0., 0., 0., 0.],\n",
       "       [0., 1., 0., 0., 0., 0., 0., 0., 0., 0.],\n",
       "       [0., 0., 0., 0., 0., 0., 0., 0., 0., 0.],\n",
       "       [0., 0., 0., 0., 0., 0., 0., 0., 0., 0.],\n",
       "       [0., 0., 0., 0., 0., 0., 0., 0., 0., 0.],\n",
       "       [0., 0., 0., 0., 0., 0., 0., 0., 0., 0.],\n",
       "       [0., 0., 0., 0., 0., 0., 0., 0., 0., 0.],\n",
       "       [0., 0., 0., 0., 0., 0., 0., 0., 0., 0.],\n",
       "       [0., 0., 0., 0., 0., 0., 0., 0., 0., 0.],\n",
       "       [0., 0., 0., 0., 0., 0., 0., 0., 0., 0.]])"
      ]
     },
     "execution_count": 6,
     "metadata": {},
     "output_type": "execute_result"
    }
   ],
   "source": [
    "grid"
   ]
  },
  {
   "cell_type": "code",
   "execution_count": null,
   "metadata": {},
   "outputs": [],
   "source": []
  }
 ],
 "metadata": {
  "kernelspec": {
   "display_name": "base",
   "language": "python",
   "name": "python3"
  },
  "language_info": {
   "codemirror_mode": {
    "name": "ipython",
    "version": 3
   },
   "file_extension": ".py",
   "mimetype": "text/x-python",
   "name": "python",
   "nbconvert_exporter": "python",
   "pygments_lexer": "ipython3",
   "version": "3.11.3"
  }
 },
 "nbformat": 4,
 "nbformat_minor": 2
}
